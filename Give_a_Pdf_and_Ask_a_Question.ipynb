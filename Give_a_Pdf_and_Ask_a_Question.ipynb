{
  "cells": [
    {
      "cell_type": "code",
      "execution_count": null,
      "metadata": {
        "colab": {
          "base_uri": "https://localhost:8080/"
        },
        "id": "xlorSbccWEDa",
        "outputId": "178ea527-fd71-4336-dc8c-5fb306dd0e7a"
      },
      "outputs": [
        {
          "name": "stdout",
          "output_type": "stream",
          "text": [
            "Looking in indexes: https://pypi.org/simple, https://us-python.pkg.dev/colab-wheels/public/simple/\n",
            "Collecting langchain\n",
            "  Downloading langchain-0.0.136-py3-none-any.whl (515 kB)\n",
            "\u001b[2K     \u001b[90m━━━━━━━━━━━━━━━━━━━━━━━━━━━━━━━━━━━━━━\u001b[0m \u001b[32m515.4/515.4 kB\u001b[0m \u001b[31m10.5 MB/s\u001b[0m eta \u001b[36m0:00:00\u001b[0m\n",
            "\u001b[?25hRequirement already satisfied: numpy<2,>=1 in /usr/local/lib/python3.9/dist-packages (from langchain) (1.22.4)\n",
            "Collecting dataclasses-json<0.6.0,>=0.5.7\n",
            "  Downloading dataclasses_json-0.5.7-py3-none-any.whl (25 kB)\n",
            "Collecting async-timeout<5.0.0,>=4.0.0\n",
            "  Downloading async_timeout-4.0.2-py3-none-any.whl (5.8 kB)\n",
            "Requirement already satisfied: pydantic<2,>=1 in /usr/local/lib/python3.9/dist-packages (from langchain) (1.10.7)\n",
            "Requirement already satisfied: SQLAlchemy<2,>=1 in /usr/local/lib/python3.9/dist-packages (from langchain) (1.4.47)\n",
            "Requirement already satisfied: tenacity<9.0.0,>=8.1.0 in /usr/local/lib/python3.9/dist-packages (from langchain) (8.2.2)\n",
            "Requirement already satisfied: requests<3,>=2 in /usr/local/lib/python3.9/dist-packages (from langchain) (2.27.1)\n",
            "Collecting aiohttp<4.0.0,>=3.8.3\n",
            "  Downloading aiohttp-3.8.4-cp39-cp39-manylinux_2_17_x86_64.manylinux2014_x86_64.whl (1.0 MB)\n",
            "\u001b[2K     \u001b[90m━━━━━━━━━━━━━━━━━━━━━━━━━━━━━━━━━━━━━━━━\u001b[0m \u001b[32m1.0/1.0 MB\u001b[0m \u001b[31m44.4 MB/s\u001b[0m eta \u001b[36m0:00:00\u001b[0m\n",
            "\u001b[?25hRequirement already satisfied: PyYAML>=5.4.1 in /usr/local/lib/python3.9/dist-packages (from langchain) (6.0)\n",
            "Collecting openapi-schema-pydantic<2.0,>=1.2\n",
            "  Downloading openapi_schema_pydantic-1.2.4-py3-none-any.whl (90 kB)\n",
            "\u001b[2K     \u001b[90m━━━━━━━━━━━━━━━━━━━━━━━━━━━━━━━━━━━━━━━━\u001b[0m \u001b[32m90.0/90.0 kB\u001b[0m \u001b[31m12.5 MB/s\u001b[0m eta \u001b[36m0:00:00\u001b[0m\n",
            "\u001b[?25hCollecting multidict<7.0,>=4.5\n",
            "  Downloading multidict-6.0.4-cp39-cp39-manylinux_2_17_x86_64.manylinux2014_x86_64.whl (114 kB)\n",
            "\u001b[2K     \u001b[90m━━━━━━━━━━━━━━━━━━━━━━━━━━━━━━━━━━━━━━\u001b[0m \u001b[32m114.2/114.2 kB\u001b[0m \u001b[31m13.6 MB/s\u001b[0m eta \u001b[36m0:00:00\u001b[0m\n",
            "\u001b[?25hRequirement already satisfied: attrs>=17.3.0 in /usr/local/lib/python3.9/dist-packages (from aiohttp<4.0.0,>=3.8.3->langchain) (22.2.0)\n",
            "Collecting yarl<2.0,>=1.0\n",
            "  Downloading yarl-1.8.2-cp39-cp39-manylinux_2_17_x86_64.manylinux2014_x86_64.whl (264 kB)\n",
            "\u001b[2K     \u001b[90m━━━━━━━━━━━━━━━━━━━━━━━━━━━━━━━━━━━━━━\u001b[0m \u001b[32m264.6/264.6 kB\u001b[0m \u001b[31m30.3 MB/s\u001b[0m eta \u001b[36m0:00:00\u001b[0m\n",
            "\u001b[?25hCollecting aiosignal>=1.1.2\n",
            "  Downloading aiosignal-1.3.1-py3-none-any.whl (7.6 kB)\n",
            "Requirement already satisfied: charset-normalizer<4.0,>=2.0 in /usr/local/lib/python3.9/dist-packages (from aiohttp<4.0.0,>=3.8.3->langchain) (2.0.12)\n",
            "Collecting frozenlist>=1.1.1\n",
            "  Downloading frozenlist-1.3.3-cp39-cp39-manylinux_2_5_x86_64.manylinux1_x86_64.manylinux_2_17_x86_64.manylinux2014_x86_64.whl (158 kB)\n",
            "\u001b[2K     \u001b[90m━━━━━━━━━━━━━━━━━━━━━━━━━━━━━━━━━━━━━━\u001b[0m \u001b[32m158.8/158.8 kB\u001b[0m \u001b[31m19.1 MB/s\u001b[0m eta \u001b[36m0:00:00\u001b[0m\n",
            "\u001b[?25hCollecting marshmallow-enum<2.0.0,>=1.5.1\n",
            "  Downloading marshmallow_enum-1.5.1-py2.py3-none-any.whl (4.2 kB)\n",
            "Collecting marshmallow<4.0.0,>=3.3.0\n",
            "  Downloading marshmallow-3.19.0-py3-none-any.whl (49 kB)\n",
            "\u001b[2K     \u001b[90m━━━━━━━━━━━━━━━━━━━━━━━━━━━━━━━━━━━━━━━━\u001b[0m \u001b[32m49.1/49.1 kB\u001b[0m \u001b[31m6.0 MB/s\u001b[0m eta \u001b[36m0:00:00\u001b[0m\n",
            "\u001b[?25hCollecting typing-inspect>=0.4.0\n",
            "  Downloading typing_inspect-0.8.0-py3-none-any.whl (8.7 kB)\n",
            "Requirement already satisfied: typing-extensions>=4.2.0 in /usr/local/lib/python3.9/dist-packages (from pydantic<2,>=1->langchain) (4.5.0)\n",
            "Requirement already satisfied: urllib3<1.27,>=1.21.1 in /usr/local/lib/python3.9/dist-packages (from requests<3,>=2->langchain) (1.26.15)\n",
            "Requirement already satisfied: idna<4,>=2.5 in /usr/local/lib/python3.9/dist-packages (from requests<3,>=2->langchain) (3.4)\n",
            "Requirement already satisfied: certifi>=2017.4.17 in /usr/local/lib/python3.9/dist-packages (from requests<3,>=2->langchain) (2022.12.7)\n",
            "Requirement already satisfied: greenlet!=0.4.17 in /usr/local/lib/python3.9/dist-packages (from SQLAlchemy<2,>=1->langchain) (2.0.2)\n",
            "Requirement already satisfied: packaging>=17.0 in /usr/local/lib/python3.9/dist-packages (from marshmallow<4.0.0,>=3.3.0->dataclasses-json<0.6.0,>=0.5.7->langchain) (23.0)\n",
            "Collecting mypy-extensions>=0.3.0\n",
            "  Downloading mypy_extensions-1.0.0-py3-none-any.whl (4.7 kB)\n",
            "Installing collected packages: mypy-extensions, multidict, marshmallow, frozenlist, async-timeout, yarl, typing-inspect, openapi-schema-pydantic, marshmallow-enum, aiosignal, dataclasses-json, aiohttp, langchain\n",
            "Successfully installed aiohttp-3.8.4 aiosignal-1.3.1 async-timeout-4.0.2 dataclasses-json-0.5.7 frozenlist-1.3.3 langchain-0.0.136 marshmallow-3.19.0 marshmallow-enum-1.5.1 multidict-6.0.4 mypy-extensions-1.0.0 openapi-schema-pydantic-1.2.4 typing-inspect-0.8.0 yarl-1.8.2\n",
            "Looking in indexes: https://pypi.org/simple, https://us-python.pkg.dev/colab-wheels/public/simple/\n",
            "Collecting openai\n",
            "  Downloading openai-0.27.4-py3-none-any.whl (70 kB)\n",
            "\u001b[2K     \u001b[90m━━━━━━━━━━━━━━━━━━━━━━━━━━━━━━━━━━━━━━━━\u001b[0m \u001b[32m70.3/70.3 kB\u001b[0m \u001b[31m3.4 MB/s\u001b[0m eta \u001b[36m0:00:00\u001b[0m\n",
            "\u001b[?25hRequirement already satisfied: aiohttp in /usr/local/lib/python3.9/dist-packages (from openai) (3.8.4)\n",
            "Requirement already satisfied: requests>=2.20 in /usr/local/lib/python3.9/dist-packages (from openai) (2.27.1)\n",
            "Requirement already satisfied: tqdm in /usr/local/lib/python3.9/dist-packages (from openai) (4.65.0)\n",
            "Requirement already satisfied: idna<4,>=2.5 in /usr/local/lib/python3.9/dist-packages (from requests>=2.20->openai) (3.4)\n",
            "Requirement already satisfied: certifi>=2017.4.17 in /usr/local/lib/python3.9/dist-packages (from requests>=2.20->openai) (2022.12.7)\n",
            "Requirement already satisfied: urllib3<1.27,>=1.21.1 in /usr/local/lib/python3.9/dist-packages (from requests>=2.20->openai) (1.26.15)\n",
            "Requirement already satisfied: charset-normalizer~=2.0.0 in /usr/local/lib/python3.9/dist-packages (from requests>=2.20->openai) (2.0.12)\n",
            "Requirement already satisfied: yarl<2.0,>=1.0 in /usr/local/lib/python3.9/dist-packages (from aiohttp->openai) (1.8.2)\n",
            "Requirement already satisfied: async-timeout<5.0,>=4.0.0a3 in /usr/local/lib/python3.9/dist-packages (from aiohttp->openai) (4.0.2)\n",
            "Requirement already satisfied: multidict<7.0,>=4.5 in /usr/local/lib/python3.9/dist-packages (from aiohttp->openai) (6.0.4)\n",
            "Requirement already satisfied: frozenlist>=1.1.1 in /usr/local/lib/python3.9/dist-packages (from aiohttp->openai) (1.3.3)\n",
            "Requirement already satisfied: aiosignal>=1.1.2 in /usr/local/lib/python3.9/dist-packages (from aiohttp->openai) (1.3.1)\n",
            "Requirement already satisfied: attrs>=17.3.0 in /usr/local/lib/python3.9/dist-packages (from aiohttp->openai) (22.2.0)\n",
            "Installing collected packages: openai\n",
            "Successfully installed openai-0.27.4\n",
            "Looking in indexes: https://pypi.org/simple, https://us-python.pkg.dev/colab-wheels/public/simple/\n",
            "Collecting PyPDF2\n",
            "  Downloading pypdf2-3.0.1-py3-none-any.whl (232 kB)\n",
            "\u001b[2K     \u001b[90m━━━━━━━━━━━━━━━━━━━━━━━━━━━━━━━━━━━━━━━\u001b[0m \u001b[32m232.6/232.6 kB\u001b[0m \u001b[31m6.2 MB/s\u001b[0m eta \u001b[36m0:00:00\u001b[0m\n",
            "\u001b[?25hRequirement already satisfied: typing_extensions>=3.10.0.0 in /usr/local/lib/python3.9/dist-packages (from PyPDF2) (4.5.0)\n",
            "Installing collected packages: PyPDF2\n",
            "Successfully installed PyPDF2-3.0.1\n",
            "Looking in indexes: https://pypi.org/simple, https://us-python.pkg.dev/colab-wheels/public/simple/\n",
            "Collecting faiss-cpu\n",
            "  Downloading faiss_cpu-1.7.3-cp39-cp39-manylinux_2_17_x86_64.manylinux2014_x86_64.whl (17.0 MB)\n",
            "\u001b[2K     \u001b[90m━━━━━━━━━━━━━━━━━━━━━━━━━━━━━━━━━━━━━━━━\u001b[0m \u001b[32m17.0/17.0 MB\u001b[0m \u001b[31m67.0 MB/s\u001b[0m eta \u001b[36m0:00:00\u001b[0m\n",
            "\u001b[?25hInstalling collected packages: faiss-cpu\n",
            "Successfully installed faiss-cpu-1.7.3\n"
          ]
        }
      ],
      "source": [
        " !pip install langchain\n",
        " !pip install openai\n",
        " !pip install PyPDF2\n",
        " !pip install faiss-cpu"
      ]
    },
    {
      "cell_type": "code",
      "execution_count": null,
      "metadata": {
        "id": "nq0vKGFeW1KD"
      },
      "outputs": [],
      "source": [
        "from PyPDF2 import PdfReader\n",
        "from langchain.embeddings.openai import OpenAIEmbeddings\n",
        "from langchain.text_splitter import CharacterTextSplitter\n",
        "from langchain.vectorstores import ElasticVectorSearch, Pinecone, Weaviate, FAISS"
      ]
    },
    {
      "cell_type": "code",
      "execution_count": null,
      "metadata": {
        "id": "yKaKB_GjWKjL"
      },
      "outputs": [],
      "source": [
        "# Get your API keys from openai, you will need to create an account.\n",
        "# Here is the link to get the keys: https://platform.openai.com/account/billing/overview\n",
        "import os\n",
        "os.environ[\"OPENAI_API_KEY\"] = \"\""
      ]
    },
    {
      "cell_type": "code",
      "execution_count": null,
      "metadata": {
        "colab": {
          "base_uri": "https://localhost:8080/"
        },
        "id": "DuSRy_lbWfE3",
        "outputId": "75db29ce-61f7-4dd7-fc1c-0486ee48f0cb"
      },
      "outputs": [
        {
          "name": "stdout",
          "output_type": "stream",
          "text": [
            "Mounted at /content/gdrive\n"
          ]
        }
      ],
      "source": [
        "# connect your Google Drive\n",
        "from google.colab import drive\n",
        "drive.mount('/content/gdrive', force_remount=True)\n",
        "root_dir = \"/content/gdrive/My Drive/\""
      ]
    },
    {
      "cell_type": "code",
      "execution_count": null,
      "metadata": {
        "id": "NalD3XkQWrJR"
      },
      "outputs": [],
      "source": [
        "# location of the pdf file/files.\n",
        "reader = PdfReader('/content/gdrive/MyDrive/LangChain/yuksekogretim-kurulu-transkript-belgesi-sorgulama.pdf')"
      ]
    },
    {
      "cell_type": "code",
      "execution_count": null,
      "metadata": {
        "colab": {
          "base_uri": "https://localhost:8080/"
        },
        "id": "SwbEBhd0ZUfX",
        "outputId": "d9a5ea5b-69f3-42ab-fcf6-586f8086a716"
      },
      "outputs": [
        {
          "data": {
            "text/plain": [
              "<PyPDF2._reader.PdfReader at 0x7fad46f41eb0>"
            ]
          },
          "execution_count": 8,
          "metadata": {},
          "output_type": "execute_result"
        }
      ],
      "source": [
        "reader"
      ]
    },
    {
      "cell_type": "code",
      "execution_count": null,
      "metadata": {
        "id": "2VXlucKiW7bX"
      },
      "outputs": [],
      "source": [
        "# read data from the file and put them into a variable called raw_text\n",
        "raw_text = ''\n",
        "for i, page in enumerate(reader.pages):\n",
        "    text = page.extract_text()\n",
        "    if text:\n",
        "        raw_text += text"
      ]
    },
    {
      "cell_type": "code",
      "execution_count": null,
      "metadata": {
        "colab": {
          "base_uri": "https://localhost:8080/",
          "height": 122
        },
        "id": "Gy3UwHGAZa0M",
        "outputId": "76838c55-f29a-422a-f1d6-c2081752d647"
      },
      "outputs": [
        {
          "data": {
            "application/vnd.google.colaboratory.intrinsic+json": {
              "type": "string"
            },
            "text/plain": [
              "'Öğrenci No\\nT.C. Kimlik No\\nAdı\\nDoğum Tarihi195260303\\n46831086028\\nONUR\\n03/04/1997:\\n::\\n:(Student ID)\\n(TR Identity No)\\n(Given Name)\\n(Date of Birth)(Surname) : Soyadı SAKAR\\n FIRAT ÜNİVERSİTESİ\\nNOT DÖKÜM BELGESİ(FIRAT UNIVERSITY)\\n(TRANSCRIPT)\\n27.09.2022 Belge Tarihi\\n(Date of Issue):\\n YOKTR70BYXHERRSB5S\\nEğitim Birimi:Mühendislik Fakültesi\\n(Academic Unit) (Faculty Of Engineering)\\nProgramı/ABD/ASD:Bilgisayar Mühendisliği Pr.\\n(Program/Department) (Computer Engineering Pr.)\\nAkademik Derece Türü:Lisans\\n(Type of Academic Degree) (Bachelor`s Degree)\\nÖğretim Dili:Türkçe\\n(Language of Instruction) (Turkish)\\nEğitim ve Öğretim Türü:Örgün Öğretim (İkinci Öğretim)\\n(Type of Education) (Formal Education (Evening Education))\\nProgram Türü:Anadal\\n(Program Type) (Major)\\nAktif Öğrenci:Öğrenim Durumu\\n(Education Status) (Active Student)\\n:ISCED Kodu0714(ISCED Code)09/09/2019:Kayıt Tarihi\\n(Admission Date)\\n:DGS\\n(External Transfer Exam (DGS))Giriş Türü\\n(Entry Type)\\nSınıfı / Dönemi:4. Sınıf / 7 Dönem\\n(Year / Semester) (4th Grade / 7 Semester)\\n:Not Sistemi 4`lük Not Sistemi\\n(Grading System) (4.0 Scale)\\n3.07:Genel Not Ortalaması\\n(Cumulative GPA)\\nHazırlık Sınıfı:İngilizce: Başarısız\\n(Preparation Class) (English: Failed)\\nKredi Türü:AKTS\\n(Credit Type) (ECTS)\\nBaşarılan Kredi177:(Credits Completed)\\n2018-2019 Güz Dönemi\\n(2018-2019 Fall Term)Dersin Statüsü\\n(Course Status)Öğretim Dili\\n(Language)T U UKAKTS\\n(ECTS)Not\\n(Grade)Puan\\n(Points)Açıklama\\n(Comment)\\nAİT202 ATATÜRK İLKE VE İNK.TAR.-II\\n(Principles of Kemal Atatürk)Z Tr 2 0 0 0 0 AA  M\\nAİT209 ATATÜRK İLKE VE İNK.TAR.-I\\n(Principles of Kemal Atatürk)Z Tr 2 0 0 0 0 DC  M\\nBMÜ111 ALGORİTMA VE PROGRAMLAMA-I\\n(Algorithms and Programming.-I)Z Tr 3 2 4 10 40 AA  M\\nBMÜ393 MESLEKİ UYGULAMA-I\\n(Summer Training-I)S Tr 0 2 1 1 0 B  M\\nMAT161 MATEMATİK-I\\n(Mathematics-I)Z Tr 4 0 4 6 21 BA  M\\nTRD109 TÜRK DİLİ-1\\n(Turkish Language-I)Z Tr 2 0 2 2 8 AA  M\\nTRD110 TÜRK DİLİ-2\\n(Turkish Language II)Z Tr 2 0 2 2 8 AA  M\\n2019-2020 Güz Dönemi\\n(2019-2020 Fall Term)Dersin Statüsü\\n(Course Status)Öğretim Dili\\n(Language)T U UKAKTS\\n(ECTS)Not\\n(Grade)Puan\\n(Points)Açıklama\\n(Comment)\\n*HAZ 01 Yabancı Dil Hazırlık 01\\n(Foreign Language Preparation 01)S İng. 0 0 0 0 - 56 HAZ KL\\n2019-2020 Bahar Dönemi\\n(2019-2020 Spring Term)Dersin Statüsü\\n(Course Status)Öğretim Dili\\n(Language)T U UKAKTS\\n(ECTS)Not\\n(Grade)Puan\\n(Points)Açıklama\\n(Comment)\\n*HAZ 02 Yabancı Dil Hazırlık 02\\n(Foreign Language Preparation 02)S İng. 0 0 0 0 - 56 HAZ KL\\n2020-2021 Güz Dönemi\\n(2020-2021 Fall Term)Dersin Statüsü\\n(Course Status)Öğretim Dili\\n(Language)T U UKAKTS\\n(ECTS)Not\\n(Grade)Puan\\n(Points)Açıklama\\n(Comment)\\nBMÜ101 BİLGİSAYAR MÜH. GİRİŞ\\n(INTRO TO COMPUTER ENGINEERING)Z Tr 1 0 1 2 6 BB  G\\nBMÜ103 BİLGİSAYAR BİLİMİNİN TEMELLERİ\\n(FUND. OF COMP SCIENCE)Z Tr 2 0 2 4 0 FF TKR KL\\nBMÜ201 MESLEKİ İNGİLİZCE-I\\n(Professional English-1)Z Tr 2 0 2 2 7 BA  G\\nBMÜ215 BİLG.DEST.TEKNİK RESİM\\n(computer-aided technical drawing)Z Tr 2 2 3 3 7.5 CB  G\\nBMÜ217 Proje Yönetimi\\n(Project Manangement)Z Tr 2 0 2 4 16 AA  G\\nBMÜ223 SİSTEM TEORİSİ\\n(Systems Theory)Z Tr 2 0 2 3 0 FF TKR KL\\n1 4/Bu belgenin doğruluğunu barkod numarası ile https://www.turkiye.gov.tr/belge-dogrulama adresinden, mobil cihazlarınıza\\nyükleyeceğiniz e-Devlet Kapısına ait Barkodlu Belge Doğrulama veya YÖK Mobil uygulaması vasıtası ile yandaki karekod\\nokutularak kontrol edilebilir.\\n (You can verify this document by entering the barcode number into the barcode number section at https://www.turkiye.gov.tr/belge-dogrulama or by scanning the QR code via the\\nmobile applications \"E-government Barcoded Document Authentication\" or \"CoHE Mobile Application\". )Öğrenci No\\nT.C. Kimlik No\\nAdı\\nDoğum Tarihi195260303\\n46831086028\\nONUR\\n03/04/1997:\\n::\\n:(Student ID)\\n(TR Identity No)\\n(Given Name)\\n(Date of Birth)(Surname) : Soyadı SAKAR\\n FIRAT ÜNİVERSİTESİ\\nNOT DÖKÜM BELGESİ(FIRAT UNIVERSITY)\\n(TRANSCRIPT)\\n27.09.2022 Belge Tarihi\\n(Date of Issue):\\n YOKTR70BYXHERRSB5S\\nBMÜ231 SAYISAL TASARIM\\n(Digital Design)Z Tr 3 0 3 6 0 FF TKR KL\\nBMÜ241 BİLG. BİLİMİ İÇİN AYRIK MAT.\\n(Discrete Mathematics)Z Tr 3 0 3 4 0 FF TKR KL\\nBMÜ325 PROGRAMLAMA DİLLERİ\\n(Programming Languages)Z Tr 3 0 3 5 0 FF TKR KL\\nFİZ105 FİZİK LABORATUVARI-I\\n(PHYSICS LAB-I)Z Tr 0 2 1 2 6 BB  G\\nFİZ111 FİZİK-I\\n(PHYSICS-I)Z Tr 4 0 4 6 24 AA  G\\nMAT215 LİNEER CEBİR\\n(Linear Algebra)Z Tr 2 0 2 4 6 DC  SG\\n2020-2021 Bahar Dönemi\\n(2020-2021 Spring Term)Dersin Statüsü\\n(Course Status)Öğretim Dili\\n(Language)T U UKAKTS\\n(ECTS)Not\\n(Grade)Puan\\n(Points)Açıklama\\n(Comment)\\nBMÜ112 ALGORİTMA VE PROGRAMLAMA -II\\n(Algorithms and Programming-II)Z Tr 3 2 4 8 32 AA  G\\nBMÜ202 Mesleki İngilizce-2\\n(Professional English-2)Z Tr 2 0 2 2 4 CC  G\\nBMÜ232 Sayısal Elektronik Lab.\\n(Digital Electronic lab.)Z Tr 0 2 1 3 7.5 CB  G\\nBMÜ234 Bilgisayar Organizasyonu ve Tasarımı\\n(Computer Organization and Design)Z Tr 3 0 3 6 0 FF TKR KL\\nBMÜ238 Sayısal İşaret İşleme\\n(Digital Signal Processing)Z Tr 2 0 2 4 10 CB  G\\nEEM102 BİLG.MÜH.İÇİN ELEKT.DEVRELERİ\\n(Electrical Circuits for Comp. Eng.)Z Tr 3 0 3 5 0 FF TKR KL\\nFİZ106 FİZİK LABORATUVARI-II\\n(Physic Lab.II)Z Tr 0 2 1 2 4 CC  G\\nFİZ112 FİZİK-II\\n(PHYSIC-II)Z Tr 3 0 3 5 12.5 CB  G\\nİST234 İSTATİSTİK VE OLASILIK\\n(STATISTICS AND PROBABILITY)Z Tr 3 0 3 4 12 BB  G\\nMAT162 MATEMATİK-II\\n(Mathematics II)Z Tr 4 0 4 6 24 AA  G\\nMAT272 Diferansiyel Denklemler\\n(Differential Equations)Z Tr 4 0 4 6 24 AA  G\\n2020-2021 Yaz Okulu\\n(2020-2021 Summer School)Dersin Statüsü\\n(Course Status)Öğretim Dili\\n(Language)T U UKAKTS\\n(ECTS)Not\\n(Grade)Puan\\n(Points)Açıklama\\n(Comment)\\nBMÜ223 SİSTEM TEORİSİ\\n(Systems Theory)Z Tr 2 0 2 3 6 CC  G\\n2021-2022 Güz Dönemi\\n(2021-2022 Fall Term)Dersin Statüsü\\n(Course Status)Öğretim Dili\\n(Language)T U UKAKTS\\n(ECTS)Not\\n(Grade)Puan\\n(Points)Açıklama\\n(Comment)\\nBMÜ103 BİLGİSAYAR BİLİMİNİN TEMELLERİ\\n(FUND. OF COMP SCIENCE)Z Tr 2 0 2 4 10 CB  G\\nBMÜ221 VERİ YAPILARI\\n(Data Structures)Z Tr 3 2 4 8 20 CB  G\\nBMÜ231 SAYISAL TASARIM\\n(Digital Design)Z Tr 3 0 3 6 15 CB  G\\nBMÜ241 BİLG. BİLİMİ İÇİN AYRIK MAT.\\n(Discrete Mathematics)Z Tr 3 0 3 4 14 BA  G\\nBMÜ313 BİÇİMSEL DİLLER VE OTOMATA TEO\\n(Formal Languages and Automata Theor)Z Tr 3 0 3 4 14 BA  G\\nBMÜ325 PROGRAMLAMA DİLLERİ\\n(Programming Languages)Z Tr 3 0 3 5 15 BB  G\\nBMÜ329 VERİ TABANI SİSTEMLERİ\\n(Database Systems)Z Tr 3 2 4 7 28 AA  G\\nBMÜ353 SAYISAL KONTROL\\n(Digital Control)S Tr 3 0 3 6 15 CB  G\\n2 4/Bu belgenin doğruluğunu barkod numarası ile https://www.turkiye.gov.tr/belge-dogrulama adresinden, mobil cihazlarınıza\\nyükleyeceğiniz e-Devlet Kapısına ait Barkodlu Belge Doğrulama veya YÖK Mobil uygulaması vasıtası ile yandaki karekod\\nokutularak kontrol edilebilir.\\n (You can verify this document by entering the barcode number into the barcode number section at https://www.turkiye.gov.tr/belge-dogrulama or by scanning the QR code via the\\nmobile applications \"E-government Barcoded Document Authentication\" or \"CoHE Mobile Application\". )Öğrenci No\\nT.C. Kimlik No\\nAdı\\nDoğum Tarihi195260303\\n46831086028\\nONUR\\n03/04/1997:\\n::\\n:(Student ID)\\n(TR Identity No)\\n(Given Name)\\n(Date of Birth)(Surname) : Soyadı SAKAR\\n FIRAT ÜNİVERSİTESİ\\nNOT DÖKÜM BELGESİ(FIRAT UNIVERSITY)\\n(TRANSCRIPT)\\n27.09.2022 Belge Tarihi\\n(Date of Issue):\\n YOKTR70BYXHERRSB5S\\n2021-2022 Bahar Dönemi\\n(2021-2022 Spring Term)Dersin Statüsü\\n(Course Status)Öğretim Dili\\n(Language)T U UKAKTS\\n(ECTS)Not\\n(Grade)Puan\\n(Points)Açıklama\\n(Comment)\\nBMÜ234 Bilgisayar Organizasyonu ve Tasarımı\\n(Computer Organization and Design)Z Tr 3 0 3 6 15 CB  G\\nBMÜ236 Sayısal Yöntemler\\n(Digital Methods)Z Tr 3 0 3 5 12.5 CB  G\\nBMÜ314 İŞLETİM SİSTEMLERİ\\n(Operating Systems)Z Tr 3 0 3 6 0 FF TKR KL\\nBMÜ316 ALGORİTMA ANALİZİ\\n(Analysis of Algorithms)Z Tr 3 0 3 6 24 AA  G\\nBMÜ326 YAZILIM MÜHENDİSLİĞİ\\n(SOFTWARE ENGINEERING)Z Tr 2 2 3 6 15 CB  G\\nBMÜ332 BİLGİSAYAR AĞLARI\\n(COMPUTER NETWORKS)Z Tr 3 0 3 6 15 CB  G\\nBMÜ352 MAKİNE ÖĞRENMESİ\\n(MACHINE LEARNING)S Tr 3 0 3 6 15 CB  G\\nEEM102 BİLG.MÜH.İÇİN ELEKT.DEVRELERİ\\n(Electrical Circuits for Comp. Eng.)Z Tr 3 0 3 5 12.5 CB  G\\n2021-2022 Yaz Okulu\\n(2021-2022 Summer School)Dersin Statüsü\\n(Course Status)Öğretim Dili\\n(Language)T U UKAKTS\\n(ECTS)Not\\n(Grade)Puan\\n(Points)Açıklama\\n(Comment)\\nBMÜ314 İŞLETİM SİSTEMLERİ\\n(Operating Systems)Z Tr 3 0 3 6 15 CB  G\\n2022-2023 Güz Dönemi\\n(2022-2023 Fall Term)Dersin Statüsü\\n(Course Status)Öğretim Dili\\n(Language)T U UKAKTS\\n(ECTS)Not\\n(Grade)Puan\\n(Points)Açıklama\\n(Comment)\\nBMÜ333 MİKROİŞLEMCİLER\\n(Microprocessors)Z Tr 3 2 4 7 -  --\\nBMÜ401 BİLGİSAYAR MÜH.TASARIM\\n(Design in Computer Eng)Z Tr 1 2 2 5 -  --\\nBMÜ425 İNTERNET PROGRAMLAMA\\n(INTERNET PROGRAMMING)Z Tr 2 2 3 4 -  --\\nBMÜ431 BİLGİSAYAR SİSTEMLERİ LAB.\\n(Computer Systems Lab)Z Tr 0 2 1 4 -  --\\nBMÜ451 DUYARGA AĞLARI\\n(Sensor Networks)S Tr 3 0 3 6 -  --\\nBMÜ459 ÇOKLU ORTAM HESAPLAMA\\n(Multimedia Computing)S Tr 3 0 3 6 -  --\\nBMÜ491 FİKRİ VE SINAİ MÜLKİYET\\n(INTELLECTUAL AND INDUSTRIAL PROPERT)S Tr 2 0 2 2 -  --\\nBMÜ493 MESLEKİ UYGULAMA-2\\n(Summer Training-2)Z Tr 0 2 1 2 -  --\\nBMÜ495 İŞ HUKUKU\\n(BUSSINES LAW)Z Tr 2 0 2 2 -  --\\nYDİ107 İNGİLİZCE I\\n(ENGLISH I)Z İng. 2 0 2 2 -  --\\nGNO:\\n(CGPA)3.07\\n3 4/Bu belgenin doğruluğunu barkod numarası ile https://www.turkiye.gov.tr/belge-dogrulama adresinden, mobil cihazlarınıza\\nyükleyeceğiniz e-Devlet Kapısına ait Barkodlu Belge Doğrulama veya YÖK Mobil uygulaması vasıtası ile yandaki karekod\\nokutularak kontrol edilebilir.\\n (You can verify this document by entering the barcode number into the barcode number section at https://www.turkiye.gov.tr/belge-dogrulama or by scanning the QR code via the\\nmobile applications \"E-government Barcoded Document Authentication\" or \"CoHE Mobile Application\". )Öğrenci No\\nT.C. Kimlik No\\nAdı\\nDoğum Tarihi195260303\\n46831086028\\nONUR\\n03/04/1997:\\n::\\n:(Student ID)\\n(TR Identity No)\\n(Given Name)\\n(Date of Birth)(Surname) : Soyadı SAKAR\\n FIRAT ÜNİVERSİTESİ\\nNOT DÖKÜM BELGESİ(FIRAT UNIVERSITY)\\n(TRANSCRIPT)\\n27.09.2022 Belge Tarihi\\n(Date of Issue):\\n YOKTR70BYXHERRSB5S\\nAçıklamalar (Explanations)\\nDers kodunun başında * olan dersler genel not\\nortalamasına dahil edilmeyen derslerdir.\\n(The courses that have the mark \"*\" at the beginning of their codes are\\ncourses that are not included in the grade point average.)\\nKısaltmalar Not Bareminde yer alan kısaltmaları\\niçermemektedir. Harf notlarına ilişkin açıklamalar ilgili\\nkısımda verilmiştir.\\n(Abbreviations do not include the abbreviations in the Grade Scale.\\nExplanations for the letter grades are given in the relevant section.)\\nDisiplin Cezası Almamıştır.\\n(Did not any disciplinary punishment. )\\nKısaltmalar (Abbreviations)\\n--:Sonuçlandırılmadı\\n(Not Yet Finalized)\\nAKTS:Avrupa Kredi Transfer Sistemi\\n(European Credit Transfer and Accumulation System)\\nDNO:Dönem Not Ortalaması\\n(Grade Point Average)\\nG:Geçti\\n(Pass)\\nGNO:Genel Not Ortalaması\\n(Cumulative Grade Point Average)\\nHAZ:Hazırlık Dersi\\n(Preparation Course)\\nKL:Kaldı\\n(Fail)\\nM:Muaf\\n(Exempt)\\nS:Seçmeli\\n(Elective Course)\\nSG:Sorumlu Geçti\\n(Conditional Pass)\\nT:Teorik Ders Saati\\n(Theoretical Course Hours)\\nTAKTS:Toplam AKTS\\n(Total ECTS Credits)\\nTKR:Tekrarlı Ders\\n(Repetitive Course)\\nTUK:Toplam Ulusal Kredi\\n(Total National Credits)\\nU:Uygulamalı Ders Saati\\n(Practical Course Hours)\\nUK:Ulusal Kredi\\n(National Credits)\\nZ:Zorunlu\\n(Compulsory Course) (Grade Scale) Not Baremi :2004 Yılı Not Baremi\\n( Grade Scale for 2004)\\nPuanlar\\n(Scores)Notlar\\n(Letter Grades)Katsayılar\\n(Grade Points)Açıklamalar\\n(Descriptions)\\n89-100 AA 4.00 Başarılı\\n(Successful)\\n85-89 BA 3.50 Başarılı\\n(Successful)\\n75-84 BB 3.00 Başarılı\\n(Successful)\\n70-74 CB 2.50 Başarılı\\n(Successful)\\n60-69 CC 2.00 Başarılı\\n(Successful)\\n55-59 DC 1.50 Kısmen Başarılı\\n(Conditional Successful)\\n50-54 DD 1.00 Kısmen Başarılı\\n(Conditional Successful)\\n0 B 0 Başarılı\\n(Successful)\\n0-49 FF 0 Başarısız\\n(Unsuccessful)\\n0 D 0 Devamsızlıktan Başarısız\\n(Unsuccessful)\\n0 K 0 Başarısız\\n(Unsuccessful)\\n*** BU BELGE 24/09/2022 02:08:02 TARİHİNDE ÜNİVERSİTE TARAFINDAN GÖNDERİLEN VERİ İLE OLUŞTURULMUŞTUR. ***\\n***SON SATIR. BU SATIRDAN SONRA HERHANGİ BİR BİLGİ BASILMAMIŞTIR. ******(THIS DOCUMENT WAS GENERATED USING THE DATA SENT BY UNIVERSITY ON 24/09/2022 02:08:02)***\\n***(THIS IS THE LAST LINE. NO INFORMATION WAS PRINTED AFTER THIS LINE.) ***\\n4 4/Bu belgenin doğruluğunu barkod numarası ile https://www.turkiye.gov.tr/belge-dogrulama adresinden, mobil cihazlarınıza\\nyükleyeceğiniz e-Devlet Kapısına ait Barkodlu Belge Doğrulama veya YÖK Mobil uygulaması vasıtası ile yandaki karekod\\nokutularak kontrol edilebilir.\\n (You can verify this document by entering the barcode number into the barcode number section at https://www.turkiye.gov.tr/belge-dogrulama or by scanning the QR code via the\\nmobile applications \"E-government Barcoded Document Authentication\" or \"CoHE Mobile Application\". )'"
            ]
          },
          "execution_count": 10,
          "metadata": {},
          "output_type": "execute_result"
        }
      ],
      "source": [
        "raw_text"
      ]
    },
    {
      "cell_type": "code",
      "execution_count": null,
      "metadata": {
        "colab": {
          "base_uri": "https://localhost:8080/",
          "height": 35
        },
        "id": "CQkqUBlzW-Xv",
        "outputId": "190efe3a-5979-43f7-c089-d858c4b5b3e8"
      },
      "outputs": [
        {
          "data": {
            "application/vnd.google.colaboratory.intrinsic+json": {
              "type": "string"
            },
            "text/plain": [
              "'Öğrenci No\\nT.C. Kimlik No\\nAdı\\nDoğum Tarihi195260303\\n46831086028\\nONUR\\n03/04/1997:\\n::\\n:(Student ID)\\n(T'"
            ]
          },
          "execution_count": 11,
          "metadata": {},
          "output_type": "execute_result"
        }
      ],
      "source": [
        "raw_text[:100]"
      ]
    },
    {
      "cell_type": "code",
      "execution_count": null,
      "metadata": {
        "id": "VdXzkpf9XAfP"
      },
      "outputs": [],
      "source": [
        "# We need to split the text that we read into smaller chunks so that during information retreival we don't hit the token size limits.\n",
        "\n",
        "text_splitter = CharacterTextSplitter(\n",
        "    separator = \"\\n\",\n",
        "    chunk_size = 1000,\n",
        "    chunk_overlap  = 200,\n",
        "    length_function = len,\n",
        ")\n",
        "texts = text_splitter.split_text(raw_text)"
      ]
    },
    {
      "cell_type": "code",
      "execution_count": null,
      "metadata": {
        "colab": {
          "base_uri": "https://localhost:8080/"
        },
        "id": "ozkNTiNuZ0TX",
        "outputId": "9494cfd2-5e60-4548-e629-3d14661afe71"
      },
      "outputs": [
        {
          "data": {
            "text/plain": [
              "16"
            ]
          },
          "execution_count": 13,
          "metadata": {},
          "output_type": "execute_result"
        }
      ],
      "source": [
        "len(texts)"
      ]
    },
    {
      "cell_type": "code",
      "execution_count": null,
      "metadata": {
        "colab": {
          "base_uri": "https://localhost:8080/",
          "height": 122
        },
        "id": "1SqdR3wFZ3Ih",
        "outputId": "6f87ae71-3729-43bf-f080-62f3fc6a4be5"
      },
      "outputs": [
        {
          "data": {
            "application/vnd.google.colaboratory.intrinsic+json": {
              "type": "string"
            },
            "text/plain": [
              "'Öğrenci No\\nT.C. Kimlik No\\nAdı\\nDoğum Tarihi195260303\\n46831086028\\nONUR\\n03/04/1997:\\n::\\n:(Student ID)\\n(TR Identity No)\\n(Given Name)\\n(Date of Birth)(Surname) : Soyadı SAKAR\\n FIRAT ÜNİVERSİTESİ\\nNOT DÖKÜM BELGESİ(FIRAT UNIVERSITY)\\n(TRANSCRIPT)\\n27.09.2022 Belge Tarihi\\n(Date of Issue):\\n YOKTR70BYXHERRSB5S\\nEğitim Birimi:Mühendislik Fakültesi\\n(Academic Unit) (Faculty Of Engineering)\\nProgramı/ABD/ASD:Bilgisayar Mühendisliği Pr.\\n(Program/Department) (Computer Engineering Pr.)\\nAkademik Derece Türü:Lisans\\n(Type of Academic Degree) (Bachelor`s Degree)\\nÖğretim Dili:Türkçe\\n(Language of Instruction) (Turkish)\\nEğitim ve Öğretim Türü:Örgün Öğretim (İkinci Öğretim)\\n(Type of Education) (Formal Education (Evening Education))\\nProgram Türü:Anadal\\n(Program Type) (Major)\\nAktif Öğrenci:Öğrenim Durumu\\n(Education Status) (Active Student)\\n:ISCED Kodu0714(ISCED Code)09/09/2019:Kayıt Tarihi\\n(Admission Date)\\n:DGS\\n(External Transfer Exam (DGS))Giriş Türü\\n(Entry Type)\\nSınıfı / Dönemi:4. Sınıf / 7 Dönem'"
            ]
          },
          "execution_count": 14,
          "metadata": {},
          "output_type": "execute_result"
        }
      ],
      "source": [
        "texts[0]"
      ]
    },
    {
      "cell_type": "code",
      "execution_count": null,
      "metadata": {
        "colab": {
          "base_uri": "https://localhost:8080/",
          "height": 157
        },
        "id": "059PoKYUZ6dJ",
        "outputId": "acad05e9-e687-4123-8460-72d426c8b3ad"
      },
      "outputs": [
        {
          "data": {
            "application/vnd.google.colaboratory.intrinsic+json": {
              "type": "string"
            },
            "text/plain": [
              "'We collected roughly one million prompt-\\nresponse pairs using the GPT-3.5-Turbo OpenAI\\nAPI between March 20, 2023 and March 26th,\\n2023. To do this, we first gathered a diverse sam-\\nple of questions/prompts by leveraging three pub-\\nlicly available datasets:\\n• The unified chip2 subset of LAION OIG.\\n• Coding questions with a random sub-sample\\nof Stackoverflow Questions\\n• Instruction-tuning with a sub-sample of Big-\\nscience/P3\\nWe chose to dedicate substantial attention to data\\npreparation and curation based on commentary in\\nthe Stanford Alpaca project (Taori et al., 2023).\\nUpon collection of the initial dataset of prompt-\\ngeneration pairs, we loaded data into Atlas for data\\ncuration and cleaning. With Atlas, we removed all\\nexamples where GPT-3.5-Turbo failed to respond\\nto prompts and produced malformed output. This\\nreduced our total number of examples to 806,199\\nhigh-quality prompt-generation pairs. Next, we\\ndecided to remove the entire Bigscience/P3 sub-'"
            ]
          },
          "execution_count": 42,
          "metadata": {},
          "output_type": "execute_result"
        }
      ],
      "source": [
        "texts[1]"
      ]
    },
    {
      "cell_type": "code",
      "execution_count": null,
      "metadata": {
        "id": "TcZUsQVyXBPX"
      },
      "outputs": [],
      "source": [
        "# Download embeddings from OpenAI\n",
        "embeddings = OpenAIEmbeddings()"
      ]
    },
    {
      "cell_type": "code",
      "execution_count": null,
      "metadata": {
        "id": "9C8py6wQXE5_"
      },
      "outputs": [],
      "source": [
        "docsearch = FAISS.from_texts(texts, embeddings)"
      ]
    },
    {
      "cell_type": "code",
      "execution_count": null,
      "metadata": {
        "colab": {
          "base_uri": "https://localhost:8080/",
          "height": 165
        },
        "id": "E_t_EpZ_XGz2",
        "outputId": "0ecf3376-499a-42eb-935a-02cedddd61ec"
      },
      "outputs": [
        {
          "ename": "NameError",
          "evalue": "ignored",
          "output_type": "error",
          "traceback": [
            "\u001b[0;31m---------------------------------------------------------------------------\u001b[0m",
            "\u001b[0;31mNameError\u001b[0m                                 Traceback (most recent call last)",
            "\u001b[0;32m<ipython-input-17-e3c4d4d74748>\u001b[0m in \u001b[0;36m<cell line: 1>\u001b[0;34m()\u001b[0m\n\u001b[0;32m----> 1\u001b[0;31m \u001b[0mdocsearch\u001b[0m\u001b[0;34m\u001b[0m\u001b[0;34m\u001b[0m\u001b[0m\n\u001b[0m",
            "\u001b[0;31mNameError\u001b[0m: name 'docsearch' is not defined"
          ]
        }
      ],
      "source": [
        "docsearch"
      ]
    },
    {
      "cell_type": "code",
      "execution_count": null,
      "metadata": {
        "id": "wpQ2VnBvXI2f"
      },
      "outputs": [],
      "source": [
        "from langchain.chains.question_answering import load_qa_chain\n",
        "from langchain.llms import OpenAI"
      ]
    },
    {
      "cell_type": "code",
      "execution_count": null,
      "metadata": {
        "id": "_L_Ywm-iXLhm"
      },
      "outputs": [],
      "source": [
        "chain = load_qa_chain(OpenAI(), chain_type=\"stuff\")"
      ]
    },
    {
      "cell_type": "code",
      "execution_count": null,
      "metadata": {
        "colab": {
          "base_uri": "https://localhost:8080/",
          "height": 200
        },
        "id": "3mtAth2jXNKO",
        "outputId": "7eced891-19bf-47e0-afea-77568ff296a8"
      },
      "outputs": [
        {
          "ename": "NameError",
          "evalue": "ignored",
          "output_type": "error",
          "traceback": [
            "\u001b[0;31m---------------------------------------------------------------------------\u001b[0m",
            "\u001b[0;31mNameError\u001b[0m                                 Traceback (most recent call last)",
            "\u001b[0;32m<ipython-input-20-06e1afb528d8>\u001b[0m in \u001b[0;36m<cell line: 2>\u001b[0;34m()\u001b[0m\n\u001b[1;32m      1\u001b[0m \u001b[0mquery\u001b[0m \u001b[0;34m=\u001b[0m \u001b[0;34m\"What is the average of 3 grades\"\u001b[0m\u001b[0;34m\u001b[0m\u001b[0;34m\u001b[0m\u001b[0m\n\u001b[0;32m----> 2\u001b[0;31m \u001b[0mdocs\u001b[0m \u001b[0;34m=\u001b[0m \u001b[0mdocsearch\u001b[0m\u001b[0;34m.\u001b[0m\u001b[0msimilarity_search\u001b[0m\u001b[0;34m(\u001b[0m\u001b[0mquery\u001b[0m\u001b[0;34m)\u001b[0m\u001b[0;34m\u001b[0m\u001b[0;34m\u001b[0m\u001b[0m\n\u001b[0m\u001b[1;32m      3\u001b[0m \u001b[0mchain\u001b[0m\u001b[0;34m.\u001b[0m\u001b[0mrun\u001b[0m\u001b[0;34m(\u001b[0m\u001b[0minput_documents\u001b[0m\u001b[0;34m=\u001b[0m\u001b[0mdocs\u001b[0m\u001b[0;34m,\u001b[0m \u001b[0mquestion\u001b[0m\u001b[0;34m=\u001b[0m\u001b[0mquery\u001b[0m\u001b[0;34m)\u001b[0m\u001b[0;34m\u001b[0m\u001b[0;34m\u001b[0m\u001b[0m\n",
            "\u001b[0;31mNameError\u001b[0m: name 'docsearch' is not defined"
          ]
        }
      ],
      "source": [
        "query = \"who are the authors of the article?\"\n",
        "docs = docsearch.similarity_search(query)\n",
        "chain.run(input_documents=docs, question=query)"
      ]
    },
    {
      "cell_type": "code",
      "execution_count": null,
      "metadata": {
        "colab": {
          "base_uri": "https://localhost:8080/",
          "height": 36
        },
        "id": "RahXBIXjXO7X",
        "outputId": "96effd28-e864-4eea-fac0-b450cc04b56a"
      },
      "outputs": [
        {
          "data": {
            "application/vnd.google.colaboratory.intrinsic+json": {
              "type": "string"
            },
            "text/plain": [
              "' $100'"
            ]
          },
          "execution_count": 49,
          "metadata": {},
          "output_type": "execute_result"
        }
      ],
      "source": [
        "query = \"What was the cost of training the GPT4all model?\"\n",
        "docs = docsearch.similarity_search(query)\n",
        "chain.run(input_documents=docs, question=query)"
      ]
    },
    {
      "cell_type": "code",
      "execution_count": null,
      "metadata": {
        "colab": {
          "base_uri": "https://localhost:8080/",
          "height": 53
        },
        "id": "EzNcvjRJXSZ4",
        "outputId": "15005165-937e-40ec-d08e-e142f4acdd65"
      },
      "outputs": [
        {
          "data": {
            "application/vnd.google.colaboratory.intrinsic+json": {
              "type": "string"
            },
            "text/plain": [
              "' The model was trained with LoRA (Hu et al., 2021) on the 437,605 post-processed examples for four epochs. Detailed model hyper-parameters and training code can be found in the associated repository and model training log.'"
            ]
          },
          "execution_count": 50,
          "metadata": {},
          "output_type": "execute_result"
        }
      ],
      "source": [
        "query = \"How was the model trained?\"\n",
        "docs = docsearch.similarity_search(query)\n",
        "chain.run(input_documents=docs, question=query)"
      ]
    },
    {
      "cell_type": "code",
      "execution_count": null,
      "metadata": {
        "colab": {
          "base_uri": "https://localhost:8080/",
          "height": 36
        },
        "id": "Nhx-kpvAXUl3",
        "outputId": "e7bead62-1726-4e1d-c88e-528e5db1e9f9"
      },
      "outputs": [
        {
          "data": {
            "application/vnd.google.colaboratory.intrinsic+json": {
              "type": "string"
            },
            "text/plain": [
              "' The final training dataset contains 437,605 prompt-generation pairs.'"
            ]
          },
          "execution_count": 51,
          "metadata": {},
          "output_type": "execute_result"
        }
      ],
      "source": [
        "query = \"what was the size of the training dataset?\"\n",
        "docs = docsearch.similarity_search(query)\n",
        "chain.run(input_documents=docs, question=query)"
      ]
    },
    {
      "cell_type": "code",
      "execution_count": null,
      "metadata": {
        "colab": {
          "base_uri": "https://localhost:8080/",
          "height": 70
        },
        "id": "kIg91Z0YXXCB",
        "outputId": "01bf3ce5-0189-487a-b1b0-7bed1e2e12a2"
      },
      "outputs": [
        {
          "data": {
            "application/vnd.google.colaboratory.intrinsic+json": {
              "type": "string"
            },
            "text/plain": [
              "' This model is different from other models because it is based on LLaMA, it is licensed only for research purposes, and it is trained on a dataset of post-processed examples. It also has a TSNE visualization of the final training data, and a zoomed-in view to show generations related to personal health and wellness.'"
            ]
          },
          "execution_count": 52,
          "metadata": {},
          "output_type": "execute_result"
        }
      ],
      "source": [
        "query = \"How is this different from other models?\"\n",
        "docs = docsearch.similarity_search(query)\n",
        "chain.run(input_documents=docs, question=query)"
      ]
    },
    {
      "cell_type": "code",
      "execution_count": null,
      "metadata": {
        "colab": {
          "base_uri": "https://localhost:8080/",
          "height": 36
        },
        "id": "D02sIID3XagO",
        "outputId": "df016d85-dedd-4800-8d1a-c872bfcb63a9"
      },
      "outputs": [
        {
          "data": {
            "application/vnd.google.colaboratory.intrinsic+json": {
              "type": "string"
            },
            "text/plain": [
              "\" I don't know.\""
            ]
          },
          "execution_count": 53,
          "metadata": {},
          "output_type": "execute_result"
        }
      ],
      "source": [
        "query = \"What is Google Bard?\"\n",
        "docs = docsearch.similarity_search(query)\n",
        "chain.run(input_documents=docs, question=query)"
      ]
    },
    {
      "cell_type": "code",
      "execution_count": null,
      "metadata": {
        "id": "qLynnMo0cj8m"
      },
      "outputs": [],
      "source": []
    }
  ],
  "metadata": {
    "accelerator": "GPU",
    "colab": {
      "provenance": []
    },
    "gpuClass": "standard",
    "kernelspec": {
      "display_name": "Python 3",
      "name": "python3"
    },
    "language_info": {
      "name": "python"
    }
  },
  "nbformat": 4,
  "nbformat_minor": 0
}
